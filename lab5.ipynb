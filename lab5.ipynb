{
  "nbformat": 4,
  "nbformat_minor": 0,
  "metadata": {
    "colab": {
      "name": "lab5.ipynb",
      "provenance": []
    },
    "kernelspec": {
      "name": "python3",
      "display_name": "Python 3"
    }
  },
  "cells": [
    {
      "cell_type": "code",
      "metadata": {
        "id": "hipglXXZZ7wp",
        "colab_type": "code",
        "colab": {}
      },
      "source": [
        ""
      ],
      "execution_count": 0,
      "outputs": []
    },
    {
      "cell_type": "code",
      "metadata": {
        "id": "NzpbR1ovZ8ef",
        "colab_type": "code",
        "colab": {}
      },
      "source": [
        ""
      ],
      "execution_count": 0,
      "outputs": []
    },
    {
      "cell_type": "markdown",
      "metadata": {
        "id": "-o5UXK57Z_od",
        "colab_type": "text"
      },
      "source": [
        "homework quest1"
      ]
    },
    {
      "cell_type": "code",
      "metadata": {
        "id": "rwcr1dc_aB_p",
        "colab_type": "code",
        "colab": {
          "base_uri": "https://localhost:8080/",
          "height": 214
        },
        "outputId": "f23e9941-ca9e-4472-d82c-dd16e551e9d1"
      },
      "source": [
        "class points():\n",
        "  def __init__(self, x, y):\n",
        "    self.x=x\n",
        "    self.y=y\n",
        "\n",
        "  def __str__(self):\n",
        "    return f\"{self.x}{self.y}\"\n",
        "\n",
        "  def __repr__(self):\n",
        "    return self.__str__()\n",
        "\n",
        "  def add(self,others):\n",
        "    if isinstance (others,tupple):\n",
        "      return points((self.x + others(0), self.y + others(1)))\n",
        "    else:\n",
        "      return ('you are not doing task right')\n",
        "\n",
        "\n",
        "p=points(1,2)\n",
        "p2=points(3,4)\n",
        "\n",
        "p3=p + p2\n",
        "return p3"
      ],
      "execution_count": 3,
      "outputs": [
        {
          "output_type": "error",
          "ename": "TypeError",
          "evalue": "ignored",
          "traceback": [
            "\u001b[0;31m---------------------------------------------------------------------------\u001b[0m",
            "\u001b[0;31mTypeError\u001b[0m                                 Traceback (most recent call last)",
            "\u001b[0;32m<ipython-input-3-56eae121eba6>\u001b[0m in \u001b[0;36m<module>\u001b[0;34m()\u001b[0m\n\u001b[1;32m     20\u001b[0m \u001b[0mp2\u001b[0m\u001b[0;34m=\u001b[0m\u001b[0mpoints\u001b[0m\u001b[0;34m(\u001b[0m\u001b[0;36m3\u001b[0m\u001b[0;34m,\u001b[0m\u001b[0;36m4\u001b[0m\u001b[0;34m)\u001b[0m\u001b[0;34m\u001b[0m\u001b[0;34m\u001b[0m\u001b[0m\n\u001b[1;32m     21\u001b[0m \u001b[0;34m\u001b[0m\u001b[0m\n\u001b[0;32m---> 22\u001b[0;31m \u001b[0mp3\u001b[0m\u001b[0;34m=\u001b[0m\u001b[0mp\u001b[0m \u001b[0;34m+\u001b[0m \u001b[0mp2\u001b[0m\u001b[0;34m\u001b[0m\u001b[0;34m\u001b[0m\u001b[0m\n\u001b[0m\u001b[1;32m     23\u001b[0m \u001b[0;32mreturn\u001b[0m \u001b[0mp3\u001b[0m\u001b[0;34m\u001b[0m\u001b[0;34m\u001b[0m\u001b[0m\n",
            "\u001b[0;31mTypeError\u001b[0m: unsupported operand type(s) for +: 'points' and 'points'"
          ]
        }
      ]
    },
    {
      "cell_type": "code",
      "metadata": {
        "id": "35fYMLR-oc3d",
        "colab_type": "code",
        "colab": {
          "base_uri": "https://localhost:8080/",
          "height": 34
        },
        "outputId": "3f8214a5-9de4-4ec8-a769-f6195fcb620d"
      },
      "source": [
        "class time():\n",
        "  def __init__(self,hrs,mins,secs):\n",
        "    self.hrs=hrs \n",
        "    self.mins=mins\n",
        "    self.secs=secs\n",
        "\n",
        "  def __str__(self):\n",
        "    return \"%02d:%02d:%02d\" %(self.hrs, self.mins, self.secs)\n",
        "\n",
        "  def represent(self):\n",
        "    print (\"%2d:%2d:%2d\" %(self.hrs, self.mins, self.secs))\n",
        "\n",
        "  def conversion(self):\n",
        "    minutes=self.hrs*60 + self.mins\n",
        "    seconds=minutes*60 +self.secs\n",
        "    return seconds\n",
        "\n",
        "  def is_after(t1,t2):\n",
        "    if t1.conversion()<t2.conversion():\n",
        "      print('t1 is first')\n",
        "    else:\n",
        "      print('t1 come afer t2')\n",
        "\n",
        "clock=time(12,10,6)\n",
        "print(clock) "
      ],
      "execution_count": 13,
      "outputs": [
        {
          "output_type": "stream",
          "text": [
            "12:10:06\n"
          ],
          "name": "stdout"
        }
      ]
    },
    {
      "cell_type": "code",
      "metadata": {
        "id": "8c7VFvButYPJ",
        "colab_type": "code",
        "colab": {
          "base_uri": "https://localhost:8080/",
          "height": 34
        },
        "outputId": "3a39e320-622d-443c-dd98-6da5e9cf0e5e"
      },
      "source": [
        "class point():\n",
        "  def __init__(self, x, y):\n",
        "    self.x=x\n",
        "    self.y=y\n",
        "\n",
        "  def __str__(self):\n",
        "    return f\"{self.x} {self.y}\"\n",
        "\n",
        "  def __repr__(self):\n",
        "    return self.__str__()\n",
        "\n",
        "  def __add__(self,some):\n",
        "    x=self.x+ some.x\n",
        "    y=self.y+ some.y\n",
        "    return point(x,y)\n",
        "\n",
        "a=point(2,6)\n",
        "b=point(4,8)\n",
        "c=a+b\n",
        "print(c)"
      ],
      "execution_count": 17,
      "outputs": [
        {
          "output_type": "stream",
          "text": [
            "6 14\n"
          ],
          "name": "stdout"
        }
      ]
    }
  ]
}